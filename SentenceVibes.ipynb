{
  "nbformat": 4,
  "nbformat_minor": 0,
  "metadata": {
    "colab": {
      "name": "SentenceVibes.ipynb",
      "provenance": [],
      "collapsed_sections": [],
      "authorship_tag": "ABX9TyNnF47f5cehiH8rDpAYZBgd",
      "include_colab_link": true
    },
    "kernelspec": {
      "display_name": "Python 3",
      "name": "python3"
    },
    "language_info": {
      "name": "python"
    },
    "accelerator": "GPU"
  },
  "cells": [
    {
      "cell_type": "markdown",
      "metadata": {
        "id": "view-in-github",
        "colab_type": "text"
      },
      "source": [
        "<a href=\"https://colab.research.google.com/github/naveenvarma600/SENTENCE_VIBES/blob/main/SentenceVibes.ipynb\" target=\"_parent\"><img src=\"https://colab.research.google.com/assets/colab-badge.svg\" alt=\"Open In Colab\"/></a>"
      ]
    },
    {
      "cell_type": "markdown",
      "metadata": {
        "id": "AiG252UCj8bC"
      },
      "source": [
        "IMPORTING NECESSARY LIBRARIES"
      ]
    },
    {
      "cell_type": "code",
      "metadata": {
        "id": "jONGjBU7V2O8"
      },
      "source": [
        "import numpy as np\n",
        "import matplotlib.pyplot as plt\n",
        "import seaborn as sns\n",
        "import pandas as pd\n",
        "import json\n",
        "import random"
      ],
      "execution_count": 2,
      "outputs": []
    },
    {
      "cell_type": "markdown",
      "metadata": {
        "id": "JFEwrFEgkDjP"
      },
      "source": [
        "DEFINING NECESSARY CLASSES"
      ]
    },
    {
      "cell_type": "code",
      "metadata": {
        "id": "py_UauMAWcWh"
      },
      "source": [
        "class Sentiment:\n",
        "  negative=\"NEGATIVE\"\n",
        "  positive=\"POSITIVE\"\n",
        "class Review:\n",
        "  def __init__(self,text,score):\n",
        "    self.text=text\n",
        "    self.score=score\n",
        "    self.sentiment=self.get_sentiment()\n",
        "  def get_sentiment(self):\n",
        "    if self.score<3:\n",
        "      return Sentiment.negative\n",
        "    else:#when score is 3 or 4 or 5\n",
        "      return Sentiment.positive\n",
        "class ReviewContainer:\n",
        "  def __init__(self,reviews):\n",
        "    self.reviews=reviews\n",
        "  def evenly_distibute(self):\n",
        "    negative=list(filter(lambda x:x.sentiment==Sentiment.negative,self.reviews))\n",
        "    positive=list(filter(lambda x:x.sentiment==Sentiment.positive,self.reviews))\n",
        "    #as data contains more positive data sets,we will reduce them into number of negative one's for better accuracy\n",
        "    positive_shrunk=positive[:len(negative)]\n",
        "    self.reviews=negative+positive_shrunk\n",
        "    random.shuffle(self.reviews)"
      ],
      "execution_count": 3,
      "outputs": []
    },
    {
      "cell_type": "markdown",
      "metadata": {
        "id": "hIKUiPklkH6a"
      },
      "source": [
        "LOADING AND UNDERSTANDING DATA"
      ]
    },
    {
      "cell_type": "code",
      "metadata": {
        "id": "CJcQ7IbPWE84"
      },
      "source": [
        "reviews=[]\n",
        "with open(\"Books_small_10000.json\") as f:\n",
        "  for line in f:\n",
        "    review_json=json.loads(line)\n",
        "    review=Review(review_json['reviewText'], review_json['overall'])\n",
        "    reviews.append(review)"
      ],
      "execution_count": 4,
      "outputs": []
    },
    {
      "cell_type": "code",
      "metadata": {
        "colab": {
          "base_uri": "https://localhost:8080/",
          "height": 35
        },
        "id": "R46HEddHWZAJ",
        "outputId": "e73ac44d-f740-45a5-fe5c-c69111ce6a05"
      },
      "source": [
        "reviews[0].text\n",
        "reviews[0].score\n",
        "reviews[0].sentiment"
      ],
      "execution_count": 5,
      "outputs": [
        {
          "output_type": "execute_result",
          "data": {
            "application/vnd.google.colaboratory.intrinsic+json": {
              "type": "string"
            },
            "text/plain": [
              "'POSITIVE'"
            ]
          },
          "metadata": {
            "tags": []
          },
          "execution_count": 5
        }
      ]
    },
    {
      "cell_type": "code",
      "metadata": {
        "id": "8rmlxNszXazc"
      },
      "source": [
        "from sklearn.model_selection import train_test_split\n",
        "training,testing=train_test_split(reviews,test_size=0.33)"
      ],
      "execution_count": 6,
      "outputs": []
    },
    {
      "cell_type": "code",
      "metadata": {
        "colab": {
          "base_uri": "https://localhost:8080/"
        },
        "id": "-j92mOz5Wkwj",
        "outputId": "08a78a98-dfc8-4e29-90fa-2538753c5141"
      },
      "source": [
        "len(training)"
      ],
      "execution_count": 7,
      "outputs": [
        {
          "output_type": "execute_result",
          "data": {
            "text/plain": [
              "6700"
            ]
          },
          "metadata": {
            "tags": []
          },
          "execution_count": 7
        }
      ]
    },
    {
      "cell_type": "code",
      "metadata": {
        "id": "e3tZUMy5QHiG"
      },
      "source": [
        "#evenly distributing data for better accuracies\n",
        "traincontainer=ReviewContainer(training)\n",
        "traincontainer.evenly_distibute()\n",
        "testcontainer=ReviewContainer(testing)\n",
        "testcontainer.evenly_distibute()"
      ],
      "execution_count": 8,
      "outputs": []
    },
    {
      "cell_type": "code",
      "metadata": {
        "id": "Q1VuiZtzXra6"
      },
      "source": [
        "#splitting data\n",
        "x_train=[x.text for x in traincontainer.reviews]\n",
        "x_test=[x.text for x in testcontainer.reviews]\n",
        "y_train=[y.sentiment for y in traincontainer.reviews]\n",
        "y_test=[y.sentiment for y in testcontainer.reviews]"
      ],
      "execution_count": 9,
      "outputs": []
    },
    {
      "cell_type": "code",
      "metadata": {
        "colab": {
          "base_uri": "https://localhost:8080/"
        },
        "id": "cRvtjavLW2QV",
        "outputId": "5d883655-da9f-41f8-82cb-86b70b662534"
      },
      "source": [
        "y_train.count(Sentiment.positive)\n",
        "y_train.count(Sentiment.negative)\n"
      ],
      "execution_count": 10,
      "outputs": [
        {
          "output_type": "execute_result",
          "data": {
            "text/plain": [
              "422"
            ]
          },
          "metadata": {
            "tags": []
          },
          "execution_count": 10
        }
      ]
    },
    {
      "cell_type": "code",
      "metadata": {
        "id": "QYchaEcHZpz0"
      },
      "source": [
        "#here we can also use count vectorizer but ,tfidf vectorizer best suits the problem\n",
        "from sklearn.feature_extraction.text import TfidfVectorizer\n",
        "vectorizer=TfidfVectorizer()\n",
        "x_train_vector=vectorizer.fit_transform(x_train)\n",
        "x_test_vector=vectorizer.transform(x_test)"
      ],
      "execution_count": 11,
      "outputs": []
    },
    {
      "cell_type": "markdown",
      "metadata": {
        "id": "o9CbP4JkkmW7"
      },
      "source": [
        "SUPPORT VECTOR MACHINES"
      ]
    },
    {
      "cell_type": "code",
      "metadata": {
        "colab": {
          "base_uri": "https://localhost:8080/"
        },
        "id": "rhK236EDaoLc",
        "outputId": "a22bb61b-e1bb-44fd-dee7-79f7a2960275"
      },
      "source": [
        "from sklearn.svm import SVC\n",
        "clf_svm=SVC()\n",
        "clf_svm.fit(x_train_vector,y_train)\n",
        "y_pred=clf_svm.predict(x_test_vector)\n",
        "\n",
        "from sklearn.metrics import accuracy_score,f1_score\n",
        "clf_svm_score=accuracy_score(y_test,y_pred)\n",
        "print(accuracy_score(y_test,y_pred))\n",
        "print(f1_score(y_test,y_pred,average=None,labels=[Sentiment.positive,Sentiment.negative]))"
      ],
      "execution_count": 12,
      "outputs": [
        {
          "output_type": "stream",
          "text": [
            "0.831081081081081\n",
            "[0.82837529 0.83370288]\n"
          ],
          "name": "stdout"
        }
      ]
    },
    {
      "cell_type": "markdown",
      "metadata": {
        "id": "yxtvwpo_krD4"
      },
      "source": [
        "DECISION TREES"
      ]
    },
    {
      "cell_type": "code",
      "metadata": {
        "colab": {
          "base_uri": "https://localhost:8080/"
        },
        "id": "AddEiSWXeq3U",
        "outputId": "6a795250-d6c4-4dd3-8adb-e9dfc7f44510"
      },
      "source": [
        "from sklearn.tree import DecisionTreeClassifier\n",
        "clf_dec=DecisionTreeClassifier()\n",
        "clf_dec.fit(x_train_vector,y_train)\n",
        "y_pred=clf_dec.predict(x_test_vector)\n",
        "\n",
        "from sklearn.metrics import accuracy_score,f1_score\n",
        "clf_dec_score=accuracy_score(y_test,y_pred)\n",
        "print(accuracy_score(y_test,y_pred))\n",
        "print(f1_score(y_test,y_pred,average=None,labels=[Sentiment.positive,Sentiment.negative]))"
      ],
      "execution_count": 13,
      "outputs": [
        {
          "output_type": "stream",
          "text": [
            "0.6373873873873874\n",
            "[0.65524625 0.6175772 ]\n"
          ],
          "name": "stdout"
        }
      ]
    },
    {
      "cell_type": "markdown",
      "metadata": {
        "id": "mDFhCka7kuSo"
      },
      "source": [
        "LOGISTIC REGRESSION"
      ]
    },
    {
      "cell_type": "code",
      "metadata": {
        "colab": {
          "base_uri": "https://localhost:8080/"
        },
        "id": "EdFFD4QeerbS",
        "outputId": "9e8c00b7-6bee-4b27-ef53-284dc019ffac"
      },
      "source": [
        "from sklearn.linear_model import LogisticRegression\n",
        "clf_log=LogisticRegression()\n",
        "clf_log.fit(x_train_vector,y_train)\n",
        "y_pred=clf_log.predict(x_test_vector)\n",
        "\n",
        "from sklearn.metrics import accuracy_score,f1_score\n",
        "clf_log_score=accuracy_score(y_test,y_pred)\n",
        "print(accuracy_score(y_test,y_pred))\n",
        "print(f1_score(y_test,y_pred,average=None,labels=[Sentiment.positive,Sentiment.negative]))"
      ],
      "execution_count": 14,
      "outputs": [
        {
          "output_type": "stream",
          "text": [
            "0.8333333333333334\n",
            "[0.83408072 0.83257919]\n"
          ],
          "name": "stdout"
        }
      ]
    },
    {
      "cell_type": "markdown",
      "metadata": {
        "id": "4dPyEgoFm5Kx"
      },
      "source": [
        "from the above calculations,we can clearly say that logistic regression best suits the problem"
      ]
    },
    {
      "cell_type": "code",
      "metadata": {
        "colab": {
          "base_uri": "https://localhost:8080/"
        },
        "id": "KEKjRcn4ecQJ",
        "outputId": "fd7ea349-7c85-419e-f4d2-a096f0ba6b63"
      },
      "source": [
        "#predicting few random samples whether positive or negative\n",
        "clf_log.predict(vectorizer.transform([\"very bad\",\"i loved it\",\"awesome\",\"worst one\"]))"
      ],
      "execution_count": 17,
      "outputs": [
        {
          "output_type": "execute_result",
          "data": {
            "text/plain": [
              "array(['NEGATIVE', 'POSITIVE', 'POSITIVE', 'NEGATIVE'], dtype='<U8')"
            ]
          },
          "metadata": {
            "tags": []
          },
          "execution_count": 17
        }
      ]
    }
  ]
}